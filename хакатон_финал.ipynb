{
  "nbformat": 4,
  "nbformat_minor": 0,
  "metadata": {
    "colab": {
      "name": "хакатон финал.ipynb",
      "provenance": []
    },
    "kernelspec": {
      "name": "python3",
      "display_name": "Python 3"
    },
    "language_info": {
      "name": "python"
    }
  },
  "cells": [
    {
      "cell_type": "code",
      "metadata": {
        "id": "6QsJDXMUYDe0",
        "colab": {
          "base_uri": "https://localhost:8080/"
        },
        "outputId": "e47f672b-6453-49fe-b8f9-c151b1ae7b04"
      },
      "source": [
        "import pandas as pd\n",
        "import numpy as np\n",
        "\n",
        "from sklearn.feature_extraction.text import HashingVectorizer\n",
        "from sklearn.linear_model import SGDClassifier\n",
        "\n",
        "from sklearn.metrics import accuracy_score\n",
        "\n",
        "from joblib import dump, load\n",
        "\n",
        "import nltk\n",
        "nltk.download('punkt')\n",
        "\n",
        "from nltk import word_tokenize\n",
        "\n",
        "nltk.download('stopwords')\n",
        "from nltk.corpus import stopwords\n",
        "sw = stopwords.words('russian')\n",
        "\n",
        "from nltk.stem.snowball import SnowballStemmer\n",
        "stemmer = SnowballStemmer('russian')\n",
        "\n",
        "def custom_tokenizer(text):\n",
        "  return [stemmer.stem(w) for w in word_tokenize(text.lower(), language='russian') if w.isalpha() and not w in sw]"
      ],
      "execution_count": 1,
      "outputs": [
        {
          "output_type": "stream",
          "text": [
            "[nltk_data] Downloading package punkt to /root/nltk_data...\n",
            "[nltk_data]   Unzipping tokenizers/punkt.zip.\n",
            "[nltk_data] Downloading package stopwords to /root/nltk_data...\n",
            "[nltk_data]   Unzipping corpora/stopwords.zip.\n"
          ],
          "name": "stdout"
        }
      ]
    },
    {
      "cell_type": "code",
      "metadata": {
        "id": "6YpdQH5SX_6S"
      },
      "source": [
        "vectorizer = load('vectorizer.joblib') \n",
        "clf = load('clf.joblib')"
      ],
      "execution_count": 3,
      "outputs": []
    },
    {
      "cell_type": "code",
      "metadata": {
        "id": "hT9Bi8_7X8rE"
      },
      "source": [
        "def answer(text):\n",
        "  a = clf.predict(vectorizer.transform([text])).tolist()[0]\n",
        "  if a == \"PRINCESS\":\n",
        "    return \"You are a princess!\"\n",
        "  elif a == \"PRINCE\":\n",
        "    return \"You are a prince.\"\n",
        "  else:\n",
        "    return \"You are a side character:(\""
      ],
      "execution_count": 6,
      "outputs": []
    },
    {
      "cell_type": "code",
      "metadata": {
        "colab": {
          "base_uri": "https://localhost:8080/",
          "height": 37
        },
        "id": "xfIylAvMfHSc",
        "outputId": "3d5ef053-3df7-47ab-be1e-4abecf34c3fa"
      },
      "source": [
        "answer(\"beautiful!\")"
      ],
      "execution_count": 20,
      "outputs": [
        {
          "output_type": "execute_result",
          "data": {
            "application/vnd.google.colaboratory.intrinsic+json": {
              "type": "string"
            },
            "text/plain": [
              "'You are a prince.'"
            ]
          },
          "metadata": {
            "tags": []
          },
          "execution_count": 20
        }
      ]
    },
    {
      "cell_type": "markdown",
      "metadata": {
        "id": "UtdfdnzjgIbY"
      },
      "source": [
        "* did i frighten you ?\n",
        "* oh, elsa, they're beautiful, but you know i don't skate\n",
        "* beautiful!"
      ]
    }
  ]
}
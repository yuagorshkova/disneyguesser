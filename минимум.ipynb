{
  "nbformat": 4,
  "nbformat_minor": 0,
  "metadata": {
    "colab": {
      "name": "минимум.ipynb",
      "provenance": [],
      "collapsed_sections": []
    },
    "kernelspec": {
      "name": "python3",
      "display_name": "Python 3"
    },
    "language_info": {
      "name": "python"
    }
  },
  "cells": [
    {
      "cell_type": "code",
      "metadata": {
        "colab": {
          "base_uri": "https://localhost:8080/"
        },
        "id": "m3kac8pNNzWd",
        "outputId": "ef6cca2d-f442-4cb8-8efc-8cb130455080"
      },
      "source": [
        "from google.colab import drive\n",
        "drive.mount('/content/gdrive')"
      ],
      "execution_count": 25,
      "outputs": [
        {
          "output_type": "stream",
          "text": [
            "Drive already mounted at /content/gdrive; to attempt to forcibly remount, call drive.mount(\"/content/gdrive\", force_remount=True).\n"
          ],
          "name": "stdout"
        }
      ]
    },
    {
      "cell_type": "code",
      "metadata": {
        "id": "is5D5BkhN911"
      },
      "source": [
        "import pandas as pd\n",
        "import numpy as np"
      ],
      "execution_count": 26,
      "outputs": []
    },
    {
      "cell_type": "code",
      "metadata": {
        "id": "tnyzG-zqN_rn"
      },
      "source": [
        "data = pd.read_csv('/content/gdrive/MyDrive/Kaggle/Copy of princess_corpus.csv')"
      ],
      "execution_count": 27,
      "outputs": []
    },
    {
      "cell_type": "code",
      "metadata": {
        "colab": {
          "base_uri": "https://localhost:8080/"
        },
        "id": "tkQozCYmONH0",
        "outputId": "df0091be-3bed-462e-df1a-810a097f0afa"
      },
      "source": [
        "import nltk\n",
        "nltk.download('punkt')\n",
        "\n",
        "from nltk import word_tokenize\n",
        "\n",
        "nltk.download('stopwords')\n",
        "from nltk.corpus import stopwords\n",
        "sw = stopwords.words('russian')\n",
        "\n",
        "from nltk.stem.snowball import SnowballStemmer\n",
        "stemmer = SnowballStemmer('russian')\n",
        "\n",
        "def custom_tokenizer(text):\n",
        "  return [stemmer.stem(w) for w in word_tokenize(text.lower(), language='russian') if w.isalpha() and not w in sw]"
      ],
      "execution_count": 28,
      "outputs": [
        {
          "output_type": "stream",
          "text": [
            "[nltk_data] Downloading package punkt to /root/nltk_data...\n",
            "[nltk_data]   Package punkt is already up-to-date!\n",
            "[nltk_data] Downloading package stopwords to /root/nltk_data...\n",
            "[nltk_data]   Package stopwords is already up-to-date!\n"
          ],
          "name": "stdout"
        }
      ]
    },
    {
      "cell_type": "code",
      "metadata": {
        "id": "BA-a3MpxOqT0"
      },
      "source": [
        "sents = sum([nltk.sent_tokenize(x) for x in data.Text], [])\n",
        "data[\"n_sent\"] = data[\"Text\"].apply(lambda x: len(nltk.sent_tokenize(x)))\n",
        "data[\"target\"] = data.apply(lambda x: [x.Speaker_Status]*x.n_sent, axis=1)\n",
        "target = sum(data[\"target\"].tolist(), [])"
      ],
      "execution_count": 29,
      "outputs": []
    },
    {
      "cell_type": "code",
      "metadata": {
        "colab": {
          "base_uri": "https://localhost:8080/"
        },
        "id": "kREzcu7tOlIx",
        "outputId": "53c158bb-12d6-47af-b879-ba24ac9325e3"
      },
      "source": [
        "from sklearn.feature_extraction.text import HashingVectorizer\n",
        "from sklearn.linear_model import SGDClassifier\n",
        "\n",
        "hash_vec3 = HashingVectorizer(tokenizer=custom_tokenizer, n_features=10000)\n",
        "train_hash = hash_vec3.fit_transform(sents)\n",
        "\n",
        "clf2 = SGDClassifier(random_state=0)\n",
        "clf2.fit(train_hash, target)"
      ],
      "execution_count": 30,
      "outputs": [
        {
          "output_type": "stream",
          "text": [
            "/usr/local/lib/python3.7/dist-packages/sklearn/feature_extraction/text.py:507: UserWarning: The parameter 'token_pattern' will not be used since 'tokenizer' is not None'\n",
            "  warnings.warn(\"The parameter 'token_pattern' will not be used\"\n"
          ],
          "name": "stderr"
        },
        {
          "output_type": "execute_result",
          "data": {
            "text/plain": [
              "SGDClassifier(alpha=0.0001, average=False, class_weight=None,\n",
              "              early_stopping=False, epsilon=0.1, eta0=0.0, fit_intercept=True,\n",
              "              l1_ratio=0.15, learning_rate='optimal', loss='hinge',\n",
              "              max_iter=1000, n_iter_no_change=5, n_jobs=None, penalty='l2',\n",
              "              power_t=0.5, random_state=0, shuffle=True, tol=0.001,\n",
              "              validation_fraction=0.1, verbose=0, warm_start=False)"
            ]
          },
          "metadata": {
            "tags": []
          },
          "execution_count": 30
        }
      ]
    },
    {
      "cell_type": "code",
      "metadata": {
        "colab": {
          "base_uri": "https://localhost:8080/"
        },
        "id": "9GrgrDtaQveG",
        "outputId": "cba1d76c-b9d3-48b7-9586-2b111662fb1f"
      },
      "source": [
        "from sklearn.metrics import accuracy_score\n",
        "\n",
        "print(np.round(accuracy_score(clf2.predict(train_hash), target), decimals=3))"
      ],
      "execution_count": 31,
      "outputs": [
        {
          "output_type": "stream",
          "text": [
            "0.675\n"
          ],
          "name": "stdout"
        }
      ]
    },
    {
      "cell_type": "code",
      "metadata": {
        "colab": {
          "base_uri": "https://localhost:8080/"
        },
        "id": "qXDPacWkWIEp",
        "outputId": "a71a6a04-a71a-4c04-be46-09071f513bf3"
      },
      "source": [
        "from joblib import dump, load\n",
        "dump(hash_vec3, 'vectorizer.joblib') "
      ],
      "execution_count": 32,
      "outputs": [
        {
          "output_type": "execute_result",
          "data": {
            "text/plain": [
              "['vectorizer.joblib']"
            ]
          },
          "metadata": {
            "tags": []
          },
          "execution_count": 32
        }
      ]
    },
    {
      "cell_type": "code",
      "metadata": {
        "id": "g4BvH2OsXB17"
      },
      "source": [
        "vectorizer = load('vectorizer.joblib') "
      ],
      "execution_count": 33,
      "outputs": []
    },
    {
      "cell_type": "code",
      "metadata": {
        "id": "QB3q0CMLWQGk"
      },
      "source": [
        "dump(clf2, 'clf.joblib')\n",
        "clf = load('clf.joblib')"
      ],
      "execution_count": 34,
      "outputs": []
    },
    {
      "cell_type": "code",
      "metadata": {
        "id": "2f8AeGavSwLA"
      },
      "source": [
        "def answer(text):\n",
        "  a = clf.predict(vectorizer.transform([sents[0]])).tolist()[0]\n",
        "  if a == \"PRINCESS\":\n",
        "    return \"You are a princess!\"\n",
        "  elif a == \"PRINCE\":\n",
        "    return \"You are a prince.\"\n",
        "  else:\n",
        "    return \"You are a side character:(\"\n",
        "  "
      ],
      "execution_count": 37,
      "outputs": []
    },
    {
      "cell_type": "code",
      "metadata": {
        "colab": {
          "base_uri": "https://localhost:8080/",
          "height": 419
        },
        "id": "DKnpnyvOfFGp",
        "outputId": "e970ccb4-64bb-44b4-85fa-303f03f6a082"
      },
      "source": [
        "df = pd.DataFrame(clf2.predict(train_hash))\n",
        "df[df[0] == \"PRINCE\"]"
      ],
      "execution_count": 51,
      "outputs": [
        {
          "output_type": "execute_result",
          "data": {
            "text/html": [
              "<div>\n",
              "<style scoped>\n",
              "    .dataframe tbody tr th:only-of-type {\n",
              "        vertical-align: middle;\n",
              "    }\n",
              "\n",
              "    .dataframe tbody tr th {\n",
              "        vertical-align: top;\n",
              "    }\n",
              "\n",
              "    .dataframe thead th {\n",
              "        text-align: right;\n",
              "    }\n",
              "</style>\n",
              "<table border=\"1\" class=\"dataframe\">\n",
              "  <thead>\n",
              "    <tr style=\"text-align: right;\">\n",
              "      <th></th>\n",
              "      <th>0</th>\n",
              "    </tr>\n",
              "  </thead>\n",
              "  <tbody>\n",
              "    <tr>\n",
              "      <th>695</th>\n",
              "      <td>PRINCE</td>\n",
              "    </tr>\n",
              "    <tr>\n",
              "      <th>1443</th>\n",
              "      <td>PRINCE</td>\n",
              "    </tr>\n",
              "    <tr>\n",
              "      <th>2070</th>\n",
              "      <td>PRINCE</td>\n",
              "    </tr>\n",
              "    <tr>\n",
              "      <th>2185</th>\n",
              "      <td>PRINCE</td>\n",
              "    </tr>\n",
              "    <tr>\n",
              "      <th>2247</th>\n",
              "      <td>PRINCE</td>\n",
              "    </tr>\n",
              "    <tr>\n",
              "      <th>...</th>\n",
              "      <td>...</td>\n",
              "    </tr>\n",
              "    <tr>\n",
              "      <th>12088</th>\n",
              "      <td>PRINCE</td>\n",
              "    </tr>\n",
              "    <tr>\n",
              "      <th>13048</th>\n",
              "      <td>PRINCE</td>\n",
              "    </tr>\n",
              "    <tr>\n",
              "      <th>13072</th>\n",
              "      <td>PRINCE</td>\n",
              "    </tr>\n",
              "    <tr>\n",
              "      <th>13169</th>\n",
              "      <td>PRINCE</td>\n",
              "    </tr>\n",
              "    <tr>\n",
              "      <th>13693</th>\n",
              "      <td>PRINCE</td>\n",
              "    </tr>\n",
              "  </tbody>\n",
              "</table>\n",
              "<p>139 rows × 1 columns</p>\n",
              "</div>"
            ],
            "text/plain": [
              "            0\n",
              "695    PRINCE\n",
              "1443   PRINCE\n",
              "2070   PRINCE\n",
              "2185   PRINCE\n",
              "2247   PRINCE\n",
              "...       ...\n",
              "12088  PRINCE\n",
              "13048  PRINCE\n",
              "13072  PRINCE\n",
              "13169  PRINCE\n",
              "13693  PRINCE\n",
              "\n",
              "[139 rows x 1 columns]"
            ]
          },
          "metadata": {
            "tags": []
          },
          "execution_count": 51
        }
      ]
    },
    {
      "cell_type": "code",
      "metadata": {
        "id": "iAcAbV56jddU"
      },
      "source": [
        ""
      ],
      "execution_count": null,
      "outputs": []
    },
    {
      "cell_type": "code",
      "metadata": {
        "colab": {
          "base_uri": "https://localhost:8080/"
        },
        "id": "UPBUX-l6fIwq",
        "outputId": "12c270e5-6c7c-4449-db1c-f4df236086dd"
      },
      "source": [
        "n = int(input())\n",
        "print(sents[n], target[n])"
      ],
      "execution_count": 61,
      "outputs": [
        {
          "output_type": "stream",
          "text": [
            "12001\n",
            "i tore a great rift in our kingdom. PRINCESS\n"
          ],
          "name": "stdout"
        }
      ]
    }
  ]
}